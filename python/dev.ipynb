{
 "cells": [
  {
   "cell_type": "markdown",
   "metadata": {},
   "source": [
    "debugging"
   ]
  },
  {
   "cell_type": "code",
   "execution_count": 1,
   "metadata": {},
   "outputs": [],
   "source": [
    "import pandas as pd\n",
    "from class_file_clerk import *\n",
    "\n",
    "#define localfile system\n",
    "if not 'nb_dir' in globals():\n",
    "    nb_dir = os.getcwd()\n",
    "os.chdir('..')\n",
    "\n",
    "%load_ext autoreload\n",
    "%autoreload 2"
   ]
  },
  {
   "cell_type": "code",
   "execution_count": 2,
   "metadata": {},
   "outputs": [],
   "source": [
    "df = pd.DataFrame({\"a\":[1,2,3],\"b\":[1,2,3]}).set_index('a')\n",
    "df.loc[1,'b'] = 4"
   ]
  },
  {
   "cell_type": "code",
   "execution_count": 3,
   "metadata": {},
   "outputs": [
    {
     "name": "stdout",
     "output_type": "stream",
     "text": [
      "a not found in Zoom data.\n"
     ]
    }
   ],
   "source": [
    "try:\n",
    "    d.loc[\"banana\",'b'] = 7\n",
    "except Exception:\n",
    "    print('a not found in Zoom data.')\n",
    "    \n",
    "d3 = df\n",
    "dse = df\n",
    "email_col = 'b'"
   ]
  },
  {
   "cell_type": "code",
   "execution_count": 4,
   "metadata": {},
   "outputs": [],
   "source": [
    "#TODO: if a student had a Zoom name that isn't present anymore, check to see if their email is still present.  \n",
    "# If it is, update their Zoom name\n",
    "e = 4\n",
    "n = 'bananas'\n",
    "try:\n",
    "    d3.loc[n,email_col] = e\n",
    "except Exception:\n",
    "#     d3.query()\n",
    "    print(f'Warning, {n} at {e} was not found in Zoom data.')\n",
    "\n"
   ]
  },
  {
   "cell_type": "code",
   "execution_count": 5,
   "metadata": {},
   "outputs": [
    {
     "ename": "NameError",
     "evalue": "name 'throw' is not defined",
     "output_type": "error",
     "traceback": [
      "\u001b[0;31m---------------------------------------------------------------------------\u001b[0m",
      "\u001b[0;31mNameError\u001b[0m                                 Traceback (most recent call last)",
      "\u001b[0;32m<ipython-input-5-048fdbf1424f>\u001b[0m in \u001b[0;36m<module>\u001b[0;34m\u001b[0m\n\u001b[0;32m----> 1\u001b[0;31m \u001b[0mthrow\u001b[0m\u001b[0;34m\u001b[0m\u001b[0;34m\u001b[0m\u001b[0m\n\u001b[0m",
      "\u001b[0;31mNameError\u001b[0m: name 'throw' is not defined"
     ]
    }
   ],
   "source": [
    "throw\n"
   ]
  },
  {
   "cell_type": "code",
   "execution_count": 6,
   "metadata": {},
   "outputs": [
    {
     "data": {
      "text/html": [
       "<div>\n",
       "<style scoped>\n",
       "    .dataframe tbody tr th:only-of-type {\n",
       "        vertical-align: middle;\n",
       "    }\n",
       "\n",
       "    .dataframe tbody tr th {\n",
       "        vertical-align: top;\n",
       "    }\n",
       "\n",
       "    .dataframe thead th {\n",
       "        text-align: right;\n",
       "    }\n",
       "</style>\n",
       "<table border=\"1\" class=\"dataframe\">\n",
       "  <thead>\n",
       "    <tr style=\"text-align: right;\">\n",
       "      <th></th>\n",
       "      <th>b</th>\n",
       "    </tr>\n",
       "    <tr>\n",
       "      <th>a</th>\n",
       "      <th></th>\n",
       "    </tr>\n",
       "  </thead>\n",
       "  <tbody>\n",
       "    <tr>\n",
       "      <th>1</th>\n",
       "      <td>4</td>\n",
       "    </tr>\n",
       "    <tr>\n",
       "      <th>2</th>\n",
       "      <td>2</td>\n",
       "    </tr>\n",
       "    <tr>\n",
       "      <th>3</th>\n",
       "      <td>6</td>\n",
       "    </tr>\n",
       "  </tbody>\n",
       "</table>\n",
       "</div>"
      ],
      "text/plain": [
       "   b\n",
       "a   \n",
       "1  4\n",
       "2  2\n",
       "3  6"
      ]
     },
     "execution_count": 6,
     "metadata": {},
     "output_type": "execute_result"
    }
   ],
   "source": [
    "df1 = pd.DataFrame({\"a\":[1,2,3],\"b\":[1,2,3]}).set_index('a')\n",
    "df2 = pd.DataFrame({\"a\":[1,2,3],\"b\":[4,1,6]}).set_index('a')\n",
    "df1.where(df1>df2, df2)"
   ]
  },
  {
   "cell_type": "markdown",
   "metadata": {},
   "source": [
    "# keep max when students go to more than 1 discussion"
   ]
  },
  {
   "cell_type": "code",
   "execution_count": 59,
   "metadata": {},
   "outputs": [
    {
     "name": "stdout",
     "output_type": "stream",
     "text": [
      "inputted attendance files:\n",
      "['participants_804242982 (2).csv', 'participants_804242982 (1).csv', 'participants_804242982.csv']\n"
     ]
    }
   ],
   "source": [
    "zoom_dir = 'data/input/from_Zoom/'\n",
    "skiprows = 2\n",
    "time_col = 'Total Duration (Minutes)'\n",
    "os.chdir(f\"{nb_dir}/..\")\n",
    "email_col = 'User Email'\n",
    "name_col = 'Name (Original Name)'\n",
    "\n",
    "\n",
    "###################\n",
    "\n",
    "#import attendence spreadsheet\n",
    "print('inputted attendance files:')\n",
    "att_fns = get_zoom_fn_list(zoom_dir)\n",
    "print(att_fns)\n",
    "\n",
    "d = pd.concat([pd.read_csv(fn, skiprows=skiprows, index_col=None) for fn in att_fns], sort=False)\n",
    "d = d[d.index>0]#drop the TA in charge of discussion (assumed to be at index position 0)\n",
    "d.reindex();"
   ]
  },
  {
   "cell_type": "code",
   "execution_count": 60,
   "metadata": {},
   "outputs": [],
   "source": [
    "# lst = att_fns\n",
    "# # fn = lst.pop()\n",
    "# d = pd.read_csv(lst.pop(), skiprows=skiprows)\n",
    "# while lst is not []:\n",
    "#     tmp = pd.read_csv(lst.pop(), skiprows=skiprows)\n",
    "#     d = d.where(d[time_col]>tmp[time_col], tmp)"
   ]
  },
  {
   "cell_type": "code",
   "execution_count": 61,
   "metadata": {},
   "outputs": [
    {
     "data": {
      "text/html": [
       "<div>\n",
       "<style scoped>\n",
       "    .dataframe tbody tr th:only-of-type {\n",
       "        vertical-align: middle;\n",
       "    }\n",
       "\n",
       "    .dataframe tbody tr th {\n",
       "        vertical-align: top;\n",
       "    }\n",
       "\n",
       "    .dataframe thead th {\n",
       "        text-align: right;\n",
       "    }\n",
       "</style>\n",
       "<table border=\"1\" class=\"dataframe\">\n",
       "  <thead>\n",
       "    <tr style=\"text-align: right;\">\n",
       "      <th></th>\n",
       "      <th>Name (Original Name)</th>\n",
       "      <th>User Email</th>\n",
       "      <th>Total Duration (Minutes)</th>\n",
       "    </tr>\n",
       "  </thead>\n",
       "  <tbody>\n",
       "    <tr>\n",
       "      <th>9</th>\n",
       "      <td>Katada Siraj</td>\n",
       "      <td>NaN</td>\n",
       "      <td>76</td>\n",
       "    </tr>\n",
       "  </tbody>\n",
       "</table>\n",
       "</div>"
      ],
      "text/plain": [
       "  Name (Original Name) User Email  Total Duration (Minutes)\n",
       "9         Katada Siraj        NaN                        76"
      ]
     },
     "execution_count": 61,
     "metadata": {},
     "output_type": "execute_result"
    }
   ],
   "source": [
    "# d.query(f\"{name_col} == 'Katada Siraj'\")\n",
    "name = 'Katada Siraj'\n",
    "\n",
    "#take the max time per student\n",
    "\n"
   ]
  },
  {
   "cell_type": "code",
   "execution_count": 64,
   "metadata": {},
   "outputs": [],
   "source": [
    "name_lst = list(set(d[name_col].values))\n",
    "tmp = pd.concat([d[d[name_col]== name].sort_values(time_col,ascending=False).head(1) for name in name_lst])"
   ]
  },
  {
   "cell_type": "code",
   "execution_count": 67,
   "metadata": {},
   "outputs": [
    {
     "data": {
      "text/plain": [
       "72"
      ]
     },
     "execution_count": 67,
     "metadata": {},
     "output_type": "execute_result"
    }
   ],
   "source": [
    "sum(tmp[time_col]>35)"
   ]
  },
  {
   "cell_type": "code",
   "execution_count": null,
   "metadata": {},
   "outputs": [],
   "source": []
  }
 ],
 "metadata": {
  "kernelspec": {
   "display_name": "Python 3",
   "language": "python",
   "name": "python3"
  },
  "language_info": {
   "codemirror_mode": {
    "name": "ipython",
    "version": 3
   },
   "file_extension": ".py",
   "mimetype": "text/x-python",
   "name": "python",
   "nbconvert_exporter": "python",
   "pygments_lexer": "ipython3",
   "version": "3.7.4"
  }
 },
 "nbformat": 4,
 "nbformat_minor": 2
}
