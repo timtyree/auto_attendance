{
 "cells": [
  {
   "cell_type": "markdown",
   "metadata": {},
   "source": [
    "# Development\n",
    "Timothy Tyree<br>\n",
    "3.29.2020<br>"
   ]
  },
  {
   "cell_type": "code",
   "execution_count": 1,
   "metadata": {},
   "outputs": [
    {
     "name": "stdout",
     "output_type": "stream",
     "text": [
      "notebook is at: /Users/timothytyree/Desktop/Teaching/auto_attendence/python\n"
     ]
    }
   ],
   "source": [
    "import numpy as np\n",
    "import pandas as pd\n",
    "import click\n",
    "from class_file_clerk import *\n",
    "\n",
    "#automate the boring stuff\n",
    "import time, os, sys, re, warnings, shutil\n",
    "beep = lambda x: os.system(\"echo -n '\\a';sleep 0.2;\" * x)\n",
    "if not 'nb_dir' in globals():\n",
    "    nb_dir = os.getcwd()\n",
    "print('notebook is at: ' + nb_dir)\n",
    "\n",
    "# github_path = \"/Users/timothytyree/Documents/GitHub/radial_cell_motion\"\n",
    "# sys.path.insert(0, github_path)\n",
    "# # from radial_cell_motion import *\n",
    "# import radial_cell_motion as rcm\n",
    "\n",
    "# load the autoreload extension\n",
    "%load_ext autoreload\n",
    "# Set extension to reload modules every time before executing code\n",
    "%autoreload 2"
   ]
  },
  {
   "cell_type": "markdown",
   "metadata": {
    "heading_collapsed": true
   },
   "source": [
    "# dev. for script that takes my students and outputs their email addresses as a list"
   ]
  },
  {
   "cell_type": "code",
   "execution_count": 16,
   "metadata": {
    "hidden": true
   },
   "outputs": [],
   "source": [
    "# #!/usr/bin/python\n",
    "\n",
    "# #!/bin/bash/python\n",
    "# my_sections = [4850, 4852, 4858]\n",
    "# roster_dir = f\"{nb_dir}/..\"\n",
    "# roster_fn = 'RosterWeek0.xlsx'\n",
    "# my_tutors = ['y7pan@ucsd.edu', 'tan005@ucsd.edu', 'xis115@ucs.edu']\n",
    "\n",
    "# def get_my_students(my_sections = [4850, 4852, 4858], \n",
    "#                     roster_dir = f\"{nb_dir}/..\", \n",
    "#                     roster_fn = 'RosterWeek0.xlsx',\n",
    "#                    my_tutors = ['y7pan@ucsd.edu', 'tan005@ucsd.edu', 'xis115@ucs.edu']):\n",
    "#     os.chdir(roster_dir)\n",
    "#     df = pd.read_excel(roster_fn)\n",
    "#     col = df.columns[0]\n",
    "#     print(f\"matching section ID's with the column, '{col}'.\")\n",
    "#     df['mine'] = False\n",
    "#     for si in my_sections:\n",
    "#         boo = df[col] == si\n",
    "#         df.loc[boo, 'mine'] = True\n",
    "#     df_mine = df.query('mine').copy()\n",
    "#     email_col = df_mine.columns[-2]\n",
    "#     print(f\"email columns taken to be '{email_col}'.\")\n",
    "\n",
    "#     #to .txt file\n",
    "#     save_fn = 'my_students.txt'\n",
    "#     df_mine[email_col].dropna().to_csv(save_fn, index=False, header=False)\n",
    "#     ns = df_mine[email_col].dropna().size\n",
    "#     print(f\"printed {ns} students to '{save_fn}'.\")\n",
    "#     return True"
   ]
  },
  {
   "cell_type": "code",
   "execution_count": 17,
   "metadata": {
    "hidden": true
   },
   "outputs": [],
   "source": [
    "\n",
    "# def get_my_students(my_sections = [4850, 4852, 4858], \n",
    "#                     roster_dir = f\"{nb_dir}/..\", \n",
    "#                     roster_fn = 'RosterWeek0.xlsx',\n",
    "#                    my_tutors = ['y7pan@ucsd.edu', 'tan005@ucsd.edu', 'xis115@ucsd.edu']):\n",
    "#     os.chdir(roster_dir)\n",
    "#     df = pd.read_excel(roster_fn)\n",
    "#     col = df.columns[0]\n",
    "#     print(f\"matching section ID's with the column, '{col}'.\")\n",
    "#     df['mine'] = False\n",
    "#     for si in my_sections:\n",
    "#         boo = df[col] == si\n",
    "#         df.loc[boo, 'mine'] = True\n",
    "#     df_mine = df.query('mine').copy()\n",
    "#     email_col = df_mine.columns[-2]\n",
    "#     print(f\"email columns taken to be '{email_col}'.\")\n",
    "\n",
    "#     #to .txt file\n",
    "#     save_fn = 'my_students.txt'\n",
    "#     s_out = pd.concat([pd.Series(my_tutors),df_mine[email_col].dropna()])\n",
    "#     s_out.to_csv(save_fn, index=False, header=False)\n",
    "#     ns = df_mine[email_col].dropna().size\n",
    "#     print(f\"printed {ns} students to '{save_fn}'.\")\n",
    "# #     return True\n",
    "#     return df_mine[email_col].dropna()"
   ]
  },
  {
   "cell_type": "code",
   "execution_count": 28,
   "metadata": {
    "hidden": true
   },
   "outputs": [
    {
     "name": "stdout",
     "output_type": "stream",
     "text": [
      "matching section ID's with the column, 'Sect ID'.\n",
      "email columns taken to be 'Unnamed: 8'.\n",
      "printed 106 students to 'my_students.txt'.\n"
     ]
    }
   ],
   "source": [
    "df = get_my_students()"
   ]
  },
  {
   "cell_type": "code",
   "execution_count": 14,
   "metadata": {
    "hidden": true
   },
   "outputs": [],
   "source": [
    "my_tutors = ['y7pan@ucsd.edu', 'tan005@ucsd.edu', 'xis115@ucsd.edu']\n",
    "list(df.values).append(my_tutors[0])"
   ]
  },
  {
   "cell_type": "code",
   "execution_count": 17,
   "metadata": {
    "hidden": true
   },
   "outputs": [
    {
     "data": {
      "text/plain": [
       "pandas.core.series.Series"
      ]
     },
     "execution_count": 17,
     "metadata": {},
     "output_type": "execute_result"
    }
   ],
   "source": [
    "type(df)"
   ]
  },
  {
   "cell_type": "code",
   "execution_count": 23,
   "metadata": {
    "hidden": true
   },
   "outputs": [
    {
     "data": {
      "text/plain": [
       "array(['y7pan@ucsd.edu', 'tan005@ucsd.edu', 'xis115@ucs.edu',\n",
       "       'iarambul@ucsd.edu', 'jashurov@ucsd.edu', 'odbarrag@ucsd.edu',\n",
       "       'm2benite@ucsd.edu', 'nbonde@ucsd.edu', 'rbracamo@ucsd.edu',\n",
       "       'tbui@ucsd.edu', 'jacai@ucsd.edu', 'anc250@ucsd.edu',\n",
       "       'dcelebra@ucsd.edu', 'dtc001@ucsd.edu', 'nichen@ucsd.edu',\n",
       "       'c3choi@ucsd.edu', 'yyc023@ucsd.edu', 'pcote@ucsd.edu',\n",
       "       'emdai@ucsd.edu', 'adealmen@ucsd.edu', 'hdo@ucsd.edu',\n",
       "       'k1dong@ucsd.edu', 'cfrobeni@ucsd.edu', 'sgao@ucsd.edu',\n",
       "       'ajgarcia@ucsd.edu', 'mrg004@ucsd.edu', 'cgarling@ucsd.edu',\n",
       "       'kgierden@ucsd.edu', 'mgigoux@ucsd.edu', 'lguo@ucsd.edu',\n",
       "       's7han@ucsd.edu', 'w4ho@ucsd.edu', 'j2huh@ucsd.edu',\n",
       "       'jmhurtad@ucsd.edu', 'jisa@ucsd.edu', 'avjackso@ucsd.edu',\n",
       "       'jjayat@ucsd.edu', 'ljian@ucsd.edu', 'mjulianc@ucsd.edu',\n",
       "       'ikavoori@ucsd.edu', 'dykim@ucsd.edu', 'jkoo@ucsd.edu',\n",
       "       'j2lam@ucsd.edu', 'clennan@ucsd.edu', 'bol004@ucsd.edu',\n",
       "       'shl006@ucsd.edu', 'allin@ucsd.edu', 'm3liu@ucsd.edu',\n",
       "       'r1liu@ucsd.edu', 'klumaqui@ucsd.edu', 'mlutzpaa@ucsd.edu',\n",
       "       'mmach@ucsd.edu', 'wmadden@ucsd.edu', 'pam015@ucsd.edu',\n",
       "       'sam050@ucsd.edu', 'admazloo@ucsd.edu', 'kwmcnult@ucsd.edu',\n",
       "       'rmedina@ucsd.edu', 'rmerchen@ucsd.edu', 'vmuti@ucsd.edu',\n",
       "       'n3ng@ucsd.edu', 'llnguyen@ucsd.edu', 'nnguyen@ucsd.edu',\n",
       "       'oogelohw@ucsd.edu', 'johashi@ucsd.edu', 'ymouyang@ucsd.edu',\n",
       "       'gpeiker@ucsd.edu', 'f1peng@ucsd.edu', 'kep005@ucsd.edu',\n",
       "       'vphan@ucsd.edu', 'apoon@ucsd.edu', 'mprovasi@ucsd.edu',\n",
       "       'tiq004@ucsd.edu', 'hquan@ucsd.edu', 'mradocha@ucsd.edu',\n",
       "       'jariddel@ucsd.edu', 'kfrosenb@ucsd.edu', 'asabado@ucsd.edu',\n",
       "       'trshaver@ucsd.edu', 'ksiraj@ucsd.edu', 'dsnelson@ucsd.edu',\n",
       "       'kjsnyder@ucsd.edu', 'ctsong@ucsd.edu', 'nsullins@ucsd.edu',\n",
       "       'bthang@ucsd.edu', 'atopel@ucsd.edu', 'ttt009@ucsd.edu',\n",
       "       'rvtruong@ucsd.edu', 'sltsai@ucsd.edu', 'jvanhyni@ucsd.edu',\n",
       "       'cavilleg@ucsd.edu', 'ndvu@ucsd.edu', 'kwah@ucsd.edu',\n",
       "       'kjw005@ucsd.edu', 'lyw001@ucsd.edu', 'yuw029@ucsd.edu',\n",
       "       'mwohlers@ucsd.edu', 'rwolterb@ucsd.edu', 'naw016@ucsd.edu',\n",
       "       'ryw003@ucsd.edu', 'siw070@ucsd.edu', 'yuw073@ucsd.edu',\n",
       "       'qix001@ucsd.edu', 'jiy038@ucsd.edu', 'f1zhang@ucsd.edu',\n",
       "       'jiz009@ucsd.edu', 'yaz001@ucsd.edu', 'jiz042@ucsd.edu',\n",
       "       'z2zhou@ucsd.edu'], dtype=object)"
      ]
     },
     "execution_count": 23,
     "metadata": {},
     "output_type": "execute_result"
    }
   ],
   "source": []
  },
  {
   "cell_type": "markdown",
   "metadata": {
    "heading_collapsed": true
   },
   "source": [
    "# dev. for making attendance spreadsheet"
   ]
  },
  {
   "cell_type": "code",
   "execution_count": 25,
   "metadata": {
    "hidden": true
   },
   "outputs": [
    {
     "name": "stdout",
     "output_type": "stream",
     "text": [
      "matching section ID's with the column, 'Sec ID'.\n",
      "email columns taken to be 'Email'.\n",
      "printed 113 students to 'my_students.txt'.\n",
      "inputted attendance files:\n",
      "['participants_804242982 (2).csv', 'participants_804242982 (1).csv', 'participants_804242982.csv']\n",
      "72 out of 83 students attended this time.\n",
      "71 students matched by email listed in Zoom.\n"
     ]
    }
   ],
   "source": []
  },
  {
   "cell_type": "code",
   "execution_count": null,
   "metadata": {
    "hidden": true
   },
   "outputs": [],
   "source": []
  },
  {
   "cell_type": "code",
   "execution_count": 26,
   "metadata": {
    "hidden": true
   },
   "outputs": [],
   "source": [
    "# roster_fn = 'RosterApr6_2.xlsx'\n",
    "# os.path.exists(roster_fn)\n",
    "# nb_dir"
   ]
  },
  {
   "cell_type": "code",
   "execution_count": null,
   "metadata": {
    "hidden": true
   },
   "outputs": [],
   "source": []
  },
  {
   "cell_type": "code",
   "execution_count": 27,
   "metadata": {
    "hidden": true
   },
   "outputs": [],
   "source": [
    "# roster_fn = 'RosterApr6_2.xlsx'\n",
    "# pd.read_excel(roster_fn, skiprows = 14)\n",
    "# df.head()"
   ]
  },
  {
   "cell_type": "code",
   "execution_count": null,
   "metadata": {
    "hidden": true
   },
   "outputs": [],
   "source": []
  },
  {
   "cell_type": "code",
   "execution_count": 28,
   "metadata": {
    "hidden": true
   },
   "outputs": [],
   "source": [
    "# ##Record the set of students not matched\n",
    "# #emails matched/not matched as true or false (--> attendence is NaN) according to Roster data\n",
    "# matched = set(out[~out['Attendence'].isna()].index)\n",
    "# not_matched = set(out[out['Attendence'].isna()].index)\n",
    "# #show students that attended but were not matched according to the Roster data\n",
    "# # attended according to Zoom data\n",
    "# d2 = d[d['Attendence']==1].set_index(email_col)\n",
    "# # select Zoom data that has emails matched to Roster data\n",
    "# boo = [i in matched for i in d2.index]\n",
    "# # take the compliment of ^that selection to get attending students not yet accounted for\n",
    "# d2 = d2[~np.array(boo)]\n",
    "# d2[d2.index.name] = d2.index.values\n",
    "# # d2.set_index(name_col, drop=False)[[name_col, email_col]].head()\n",
    "# #record my match of Zoom names to emails so I don't need to do this over\n",
    "# # save a list of students and emails from Roster that were not matched\n",
    "# # out[out['Attendence'].isna()]['Student', 'User Email'].to_csv('students_not_matched_in_roster_dataset.csv')\n",
    "# out.loc[not_matched]['Student'].to_csv('students_not_matched_in_roster_dataset.csv', header=True)\n",
    "# #save a list of students that attended the Zoom meeting that were not matched with a Roster email\n",
    "# d2.set_index(name_col)[email_col].to_csv('students_not_matched_in_zoom_dataset.csv', header=True)"
   ]
  },
  {
   "cell_type": "code",
   "execution_count": 7,
   "metadata": {
    "hidden": true
   },
   "outputs": [],
   "source": [
    "#set all attendence to 0\n",
    "\n",
    "#DONE: export in the format Khang wants\n",
    "#DONE: put all ^this into a .py file\n",
    "\n",
    "#TODO: MOVE ON WITH YOUR DAY\n"
   ]
  },
  {
   "cell_type": "code",
   "execution_count": 8,
   "metadata": {
    "hidden": true
   },
   "outputs": [],
   "source": []
  },
  {
   "cell_type": "code",
   "execution_count": 10,
   "metadata": {
    "hidden": true
   },
   "outputs": [],
   "source": []
  },
  {
   "cell_type": "code",
   "execution_count": 48,
   "metadata": {
    "hidden": true
   },
   "outputs": [],
   "source": [
    "#in sublime_text/excel, make a \"best guess\" as to which students are which.  Don't focus time here unreasonably.\n",
    "#DONE: use ^that dictionary to fill in missing student emails.  all but 2-3 students I could recognize."
   ]
  },
  {
   "cell_type": "code",
   "execution_count": 49,
   "metadata": {
    "hidden": true
   },
   "outputs": [],
   "source": [
    "#fill out the attendence, using the email matching routine\n",
    "\n",
    "#wrap ^this all up in a .py file\n",
    "#()#.set_index('Name (Original Name)', drop=False)"
   ]
  },
  {
   "cell_type": "markdown",
   "metadata": {},
   "source": [
    "# Workflow for taking Zoom attendence to Roster spreadsheets"
   ]
  },
  {
   "cell_type": "code",
   "execution_count": 29,
   "metadata": {},
   "outputs": [
    {
     "name": "stdout",
     "output_type": "stream",
     "text": [
      "matching section ID's with the column, 'Sec ID'.\n",
      "email columns taken to be 'Email'.\n",
      "printed 113 students to 'my_students.txt'.\n",
      "inputted attendance files:\n",
      "['participants_804242982 (2).csv', 'participants_804242982 (1).csv', 'participants_804242982.csv']\n",
      "72 out of 83 students attended this time.\n",
      "71 students matched by email listed in Zoom.\n"
     ]
    }
   ],
   "source": [
    "#WORKFLOW:\n",
    "#1 re-export the roster_fn as .xlsx from Excel\n",
    "#2 df = get_my_students(roster_fn = roster_fn)\n",
    "os.chdir(f\"{nb_dir}/../data/input/from_Student_Roster\")\n",
    "df_all_students = get_my_students(roster_fn = 'RosterApr6_2.xlsx')\n",
    "#3 run get_attendence(df)\n",
    "df_attendence = get_attendence(df)"
   ]
  },
  {
   "cell_type": "markdown",
   "metadata": {
    "heading_collapsed": true
   },
   "source": [
    "# (don't waste time on distractability operations) \n",
    "setup.py question asker for auto_attendance"
   ]
  },
  {
   "cell_type": "code",
   "execution_count": 36,
   "metadata": {
    "hidden": true
   },
   "outputs": [],
   "source": []
  },
  {
   "cell_type": "code",
   "execution_count": 39,
   "metadata": {
    "hidden": true
   },
   "outputs": [
    {
     "name": "stdout",
     "output_type": "stream",
     "text": [
      "Your current discussion sections:\n",
      "   Sec ID SecCode\n",
      "0    4850     A03\n",
      "1    4852     A05\n",
      "2    4858     A11\n",
      "\n",
      "Your current teaching assistants:\n",
      "            name             email\n",
      "0  Timothy Tyree  tttyree@ucsd.edu\n",
      "1     Nguyen Tai   tan005@ucsd.edu\n",
      "2    Pan Yingxue    y7pan@ucsd.edu\n",
      "3     Shi Xiaoao   xis115@ucsd.edu\n"
     ]
    }
   ],
   "source": []
  },
  {
   "cell_type": "code",
   "execution_count": null,
   "metadata": {
    "hidden": true
   },
   "outputs": [],
   "source": [
    "# #setup sections and tas\n",
    "# if __name__ == __main__:\n",
    "#     #\n",
    "   \n",
    "#     #add yourself to ta list\n",
    "#     name = input('please enter your name:')\n",
    "#     email= input('please enter your email:')\n",
    "#     add\n",
    "#     #clear list\n",
    "#     os.chdir(data_dir)\n",
    "\n",
    "retval = input(\"Do you have another section? (y/n)\")\n",
    "\n"
   ]
  },
  {
   "cell_type": "markdown",
   "metadata": {},
   "source": [
    "# file search"
   ]
  },
  {
   "cell_type": "code",
   "execution_count": 2,
   "metadata": {},
   "outputs": [],
   "source": [
    "import class_file_clerk as cfc\n",
    "\n",
    "#define localfile system\n",
    "if not 'nb_dir' in globals():\n",
    "    nb_dir = os.getcwd()\n",
    "data_dir   = f\"{nb_dir}/../data/input/\"\n",
    "output_dir = f\"{nb_dir}/../data/output/\"\n",
    "roster_dir = f\"{data_dir}from_Student_Roster/\"\n",
    "zoom_dir   = f\"{data_dir}from_Zoom/\""
   ]
  },
  {
   "cell_type": "code",
   "execution_count": null,
   "metadata": {},
   "outputs": [],
   "source": []
  },
  {
   "cell_type": "code",
   "execution_count": 3,
   "metadata": {},
   "outputs": [
    {
     "data": {
      "text/plain": [
       "['participants_804242982 (2).csv',\n",
       " 'participants_804242982 (1).csv',\n",
       " 'participants_804242982.csv']"
      ]
     },
     "execution_count": 3,
     "metadata": {},
     "output_type": "execute_result"
    }
   ],
   "source": [
    "get_zoom_fn_list()\n",
    "# os.listdir()\n",
    "# os.listdir()"
   ]
  },
  {
   "cell_type": "code",
   "execution_count": 4,
   "metadata": {},
   "outputs": [],
   "source": [
    "\n",
    "#WORKFLOW:\n",
    "#1 re-export the roster_fn as .xlsx from Excel\n",
    "#2 df = get_my_students(roster_fn = roster_fn)\n",
    "\n",
    "# df_all_students = get_my_students()\n",
    "#3 run get_attendence(df)\n",
    "# df_attendence = get_attendence(df)"
   ]
  },
  {
   "cell_type": "code",
   "execution_count": 9,
   "metadata": {},
   "outputs": [
    {
     "data": {
      "text/plain": [
       "True"
      ]
     },
     "execution_count": 9,
     "metadata": {},
     "output_type": "execute_result"
    }
   ],
   "source": [
    "setup_file_system()"
   ]
  },
  {
   "cell_type": "code",
   "execution_count": 5,
   "metadata": {},
   "outputs": [],
   "source": [
    "# os.chdir(roster_dir)\n",
    "# os.path.exists(get_roster_fn())\n",
    "# print_state()"
   ]
  },
  {
   "cell_type": "code",
   "execution_count": 33,
   "metadata": {},
   "outputs": [
    {
     "name": "stdout",
     "output_type": "stream",
     "text": [
      "Your current discussion sections:\n",
      "            name             email\n",
      "0  Timothy Tyree  tttyree@ucsd.edu\n",
      "1     Nguyen Tai   tan005@ucsd.edu\n",
      "2    Pan Yingxue    y7pan@ucsd.edu\n",
      "3     Shi Xiaoao   xis115@ucsd.edu\n",
      "\n",
      "Your current teaching assistants:\n",
      "   Sec ID SecCode\n",
      "0    4850     A03\n",
      "1    4852     A05\n",
      "2    4858     A11\n",
      "\n",
      "getting roster data from RosterApr6_2.xlsx\n",
      "matching section ID's with the column, 'Sec ID'.\n",
      "email columns taken to be 'Email'.\n",
      "printed 113 students to 'my_students.txt'.\n",
      "\n",
      "inputted attendance files:\n",
      "['participants_804242982 (2).csv', 'participants_804242982 (1).csv', 'participants_804242982.csv']\n",
      "71 out of 82 students attended this time.\n",
      "50 students matched by email listed in Zoom.\n",
      "\n",
      "saved output as 'attendence of A03 and A05 and A11.xlsx'...\n"
     ]
    }
   ],
   "source": [
    "os.chdir(data_dir)\n",
    "assert(get_sections() is not None)\n",
    "assert(get_ta() is not None)\n",
    "print_state()\n",
    "\n",
    "my_sections = list(get_sections()['Sec ID'].values)\n",
    "roster_fn   = get_roster_fn()\n",
    "my_tutors   = list(get_ta()['email'].values)\n",
    "\n",
    "#take attendance\n",
    "print(f'\\ngetting roster data from {roster_fn}')\n",
    "df = get_my_students(roster_fn=roster_fn, \n",
    "                my_sections = my_sections,\n",
    "                my_tutors = my_tutors,\n",
    "                skiprows = 14)\n",
    "print('')\n",
    "df_attendence = get_attendence(df)\n",
    "print(f\"\\nsaved output as '{get_output_fn()}'.\")"
   ]
  },
  {
   "cell_type": "code",
   "execution_count": 7,
   "metadata": {},
   "outputs": [
    {
     "name": "stdout",
     "output_type": "stream",
     "text": [
      "/Users/timothytyree/Desktop/Teaching/auto_attendence/data/input/from_Zoom\r\n"
     ]
    }
   ],
   "source": [
    "data_dir\n",
    "!pwd"
   ]
  },
  {
   "cell_type": "code",
   "execution_count": null,
   "metadata": {},
   "outputs": [],
   "source": []
  },
  {
   "cell_type": "code",
   "execution_count": 29,
   "metadata": {},
   "outputs": [
    {
     "name": "stdout",
     "output_type": "stream",
     "text": [
      "matching section ID's with the column, 'Sec ID'.\n",
      "email columns taken to be 'Email'.\n",
      "printed 113 students to 'my_students.txt'.\n"
     ]
    }
   ],
   "source": [
    "\n"
   ]
  },
  {
   "cell_type": "code",
   "execution_count": 27,
   "metadata": {},
   "outputs": [
    {
     "name": "stdout",
     "output_type": "stream",
     "text": [
      "inputted attendance files:\n",
      "['participants_804242982 (2).csv', 'participants_804242982 (1).csv', 'participants_804242982.csv']\n",
      "71 out of 82 students attended this time.\n",
      "50 students matched by email listed in Zoom.\n"
     ]
    }
   ],
   "source": []
  },
  {
   "cell_type": "code",
   "execution_count": null,
   "metadata": {},
   "outputs": [],
   "source": []
  },
  {
   "cell_type": "code",
   "execution_count": null,
   "metadata": {},
   "outputs": [],
   "source": []
  },
  {
   "cell_type": "code",
   "execution_count": null,
   "metadata": {},
   "outputs": [],
   "source": []
  },
  {
   "cell_type": "code",
   "execution_count": null,
   "metadata": {},
   "outputs": [],
   "source": []
  },
  {
   "cell_type": "code",
   "execution_count": null,
   "metadata": {},
   "outputs": [],
   "source": []
  },
  {
   "cell_type": "code",
   "execution_count": null,
   "metadata": {},
   "outputs": [],
   "source": []
  }
 ],
 "metadata": {
  "kernelspec": {
   "display_name": "Python 3",
   "language": "python",
   "name": "python3"
  },
  "language_info": {
   "codemirror_mode": {
    "name": "ipython",
    "version": 3
   },
   "file_extension": ".py",
   "mimetype": "text/x-python",
   "name": "python",
   "nbconvert_exporter": "python",
   "pygments_lexer": "ipython3",
   "version": "3.7.4"
  }
 },
 "nbformat": 4,
 "nbformat_minor": 2
}
